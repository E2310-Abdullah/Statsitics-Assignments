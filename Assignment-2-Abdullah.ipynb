{
 "cells": [
  {
   "cell_type": "markdown",
   "id": "7ca25cb6",
   "metadata": {},
   "source": [
    "# STATISTICS"
   ]
  },
  {
   "cell_type": "markdown",
   "id": "5746163a",
   "metadata": {},
   "source": [
    "## ASSIGNMENT (CONFIDENCE INTERVALS) "
   ]
  },
  {
   "cell_type": "code",
   "execution_count": 1,
   "id": "f6e2605c",
   "metadata": {},
   "outputs": [],
   "source": [
    "from scipy import stats\n",
    "import numpy as np"
   ]
  },
  {
   "cell_type": "markdown",
   "id": "f2cc40d8",
   "metadata": {},
   "source": [
    "EXERCISE 1. \n",
    "Suppose scores on exams in statistics are normally distributed with an unknown population mean and a population standard deviation of 3 points. A random sample of 36 scores is taken and gives a sample mean (sample  mean score) of 68. Find a confidence interval estimate for the population mean exam score (the mean score on all exams).\n",
    "Find a 90% confidence interval for the true (population) mean of statistics exam scores. \n"
   ]
  },
  {
   "cell_type": "code",
   "execution_count": 2,
   "id": "05553bac",
   "metadata": {},
   "outputs": [
    {
     "data": {
      "text/plain": [
       "0.36380343755449945"
      ]
     },
     "execution_count": 2,
     "metadata": {},
     "output_type": "execute_result"
    }
   ],
   "source": [
    "n = 36\n",
    "s = 3\n",
    "x_bar = 68\n",
    "z_90 = 1.645 # (90% confidence)\n",
    "sem = s / np.sqrt(x_bar)\n",
    "sem"
   ]
  },
  {
   "cell_type": "code",
   "execution_count": 3,
   "id": "94e1e310",
   "metadata": {
    "scrolled": true
   },
   "outputs": [
    {
     "data": {
      "text/plain": [
       "0.5984566547771516"
      ]
     },
     "execution_count": 3,
     "metadata": {},
     "output_type": "execute_result"
    }
   ],
   "source": [
    "moe = sem * z_90\n",
    "moe"
   ]
  },
  {
   "cell_type": "code",
   "execution_count": 4,
   "id": "aa827f53",
   "metadata": {},
   "outputs": [
    {
     "data": {
      "text/plain": [
       "67.40154334522285"
      ]
     },
     "execution_count": 4,
     "metadata": {},
     "output_type": "execute_result"
    }
   ],
   "source": [
    "lower_limit = x_bar - moe\n",
    "lower_limit "
   ]
  },
  {
   "cell_type": "code",
   "execution_count": 5,
   "id": "61e65f55",
   "metadata": {},
   "outputs": [
    {
     "data": {
      "text/plain": [
       "68.59845665477715"
      ]
     },
     "execution_count": 5,
     "metadata": {},
     "output_type": "execute_result"
    }
   ],
   "source": [
    "upper_limit = x_bar + moe\n",
    "upper_limit"
   ]
  },
  {
   "cell_type": "code",
   "execution_count": 6,
   "id": "f6d5afd4",
   "metadata": {},
   "outputs": [
    {
     "data": {
      "text/plain": [
       "(67.40154334522285, 68.59845665477715)"
      ]
     },
     "execution_count": 6,
     "metadata": {},
     "output_type": "execute_result"
    }
   ],
   "source": [
    "lower_limit, upper_limit"
   ]
  },
  {
   "cell_type": "code",
   "execution_count": null,
   "id": "7e07fe34",
   "metadata": {},
   "outputs": [],
   "source": []
  },
  {
   "cell_type": "code",
   "execution_count": 14,
   "id": "132c9401",
   "metadata": {},
   "outputs": [
    {
     "data": {
      "text/plain": [
       "(67.40159659624106, 68.59840340375894)"
      ]
     },
     "execution_count": 14,
     "metadata": {},
     "output_type": "execute_result"
    }
   ],
   "source": [
    "stats.norm.interval(0.90, loc=x_bar, scale=sem)"
   ]
  },
  {
   "cell_type": "markdown",
   "id": "18c97c89",
   "metadata": {},
   "source": [
    "EXERCISE 2. \n",
    "What is the normal body temperature for healthy humans? A random sample of 130 healthy human body temperatures provided by Allen Shoemaker7 yielded 98.25 degrees and standard deviation 0.73 degrees. \n",
    "Give a 99% confidence interval for the average body temperature of healthy people.\n"
   ]
  },
  {
   "cell_type": "code",
   "execution_count": 8,
   "id": "bfdc1158",
   "metadata": {},
   "outputs": [
    {
     "data": {
      "text/plain": [
       "0.07364725775657646"
      ]
     },
     "execution_count": 8,
     "metadata": {},
     "output_type": "execute_result"
    }
   ],
   "source": [
    "n2 = 130\n",
    "x_bar2 = 98.25\n",
    "s2 = 0.73\n",
    "z_99 = 2.58 # (99% confidence)\n",
    "sem2 = s2 / np.sqrt(x_bar2)\n",
    "sem2"
   ]
  },
  {
   "cell_type": "code",
   "execution_count": 19,
   "id": "aceecac8",
   "metadata": {},
   "outputs": [
    {
     "data": {
      "text/plain": [
       "0.19000992501196728"
      ]
     },
     "execution_count": 19,
     "metadata": {},
     "output_type": "execute_result"
    }
   ],
   "source": [
    "moe2 = sem2 * z_99\n",
    "moe2"
   ]
  },
  {
   "cell_type": "code",
   "execution_count": 20,
   "id": "186757c2",
   "metadata": {},
   "outputs": [
    {
     "data": {
      "text/plain": [
       "(98.05999007498804, 98.44000992501196)"
      ]
     },
     "execution_count": 20,
     "metadata": {},
     "output_type": "execute_result"
    }
   ],
   "source": [
    "lower_limit2 = x_bar2 - moe2\n",
    "upper_limit2 = x_bar2 + moe2\n",
    "lower_limit2, upper_limit2"
   ]
  },
  {
   "cell_type": "code",
   "execution_count": null,
   "id": "615f3625",
   "metadata": {},
   "outputs": [],
   "source": []
  },
  {
   "cell_type": "code",
   "execution_count": 21,
   "id": "2995cf16",
   "metadata": {},
   "outputs": [
    {
     "data": {
      "text/plain": [
       "(98.06029723534459, 98.43970276465541)"
      ]
     },
     "execution_count": 21,
     "metadata": {},
     "output_type": "execute_result"
    }
   ],
   "source": [
    "stats.norm.interval(0.99, loc=x_bar2, scale=sem2)"
   ]
  },
  {
   "cell_type": "markdown",
   "id": "763bd76a",
   "metadata": {},
   "source": [
    "EXERCISE 3. \n",
    "The administrators for a hospital wished to estimate the average number of days required for inpatient treatment of patients between the ages of 25 and 34. A random sample of 500 hospital patients between these ages produced a mean and standard deviation equal to 5.4 and 3.1 days, respectively.\n",
    "Construct a 95% confidence interval for the mean length of stay for the population of patients from which the sample was drawn.\n"
   ]
  },
  {
   "cell_type": "code",
   "execution_count": 17,
   "id": "3be977db",
   "metadata": {},
   "outputs": [
    {
     "data": {
      "text/plain": [
       "1.3340275970269992"
      ]
     },
     "execution_count": 17,
     "metadata": {},
     "output_type": "execute_result"
    }
   ],
   "source": [
    "n3 = 500\n",
    "x_bar3 = 5.4\n",
    "s3 = 3.1\n",
    "z_95 = 1.96 # (95% confidence)\n",
    "sem3 = s3 / np.sqrt(x_bar3)\n",
    "sem3"
   ]
  },
  {
   "cell_type": "code",
   "execution_count": 25,
   "id": "4d60f26c",
   "metadata": {},
   "outputs": [
    {
     "data": {
      "text/plain": [
       "2.6146940901729185"
      ]
     },
     "execution_count": 25,
     "metadata": {},
     "output_type": "execute_result"
    }
   ],
   "source": [
    "moe3 = sem3 * z_95\n",
    "moe3"
   ]
  },
  {
   "cell_type": "code",
   "execution_count": 26,
   "id": "203f29ac",
   "metadata": {},
   "outputs": [
    {
     "data": {
      "text/plain": [
       "(2.785305909827082, 8.014694090172918)"
      ]
     },
     "execution_count": 26,
     "metadata": {},
     "output_type": "execute_result"
    }
   ],
   "source": [
    "lower_limit3 = x_bar3 - moe3\n",
    "upper_limit3 = x_bar3 + moe3\n",
    "lower_limit3, upper_limit3"
   ]
  },
  {
   "cell_type": "code",
   "execution_count": null,
   "id": "d865ffcc",
   "metadata": {},
   "outputs": [],
   "source": []
  },
  {
   "cell_type": "code",
   "execution_count": 27,
   "id": "b8a5ed33",
   "metadata": {},
   "outputs": [
    {
     "data": {
      "text/plain": [
       "(2.7853539554445694, 8.01464604455543)"
      ]
     },
     "execution_count": 27,
     "metadata": {},
     "output_type": "execute_result"
    }
   ],
   "source": [
    "stats.norm.interval(0.95, loc=x_bar3, scale=sem3)"
   ]
  }
 ],
 "metadata": {
  "kernelspec": {
   "display_name": "Python 3 (ipykernel)",
   "language": "python",
   "name": "python3"
  },
  "language_info": {
   "codemirror_mode": {
    "name": "ipython",
    "version": 3
   },
   "file_extension": ".py",
   "mimetype": "text/x-python",
   "name": "python",
   "nbconvert_exporter": "python",
   "pygments_lexer": "ipython3",
   "version": "3.9.12"
  }
 },
 "nbformat": 4,
 "nbformat_minor": 5
}
